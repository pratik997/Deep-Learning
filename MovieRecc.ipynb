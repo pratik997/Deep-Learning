{
  "nbformat": 4,
  "nbformat_minor": 0,
  "metadata": {
    "colab": {
      "name": "MovieRecc.ipynb",
      "provenance": []
    },
    "kernelspec": {
      "name": "python3",
      "display_name": "Python 3"
    },
    "accelerator": "GPU"
  },
  "cells": [
    {
      "cell_type": "code",
      "metadata": {
        "colab": {
          "base_uri": "https://localhost:8080/"
        },
        "id": "uancBvdueJwx",
        "outputId": "2e18bd63-ad73-4cb7-92fb-6317dd24b34e"
      },
      "source": [
        "from google.colab import drive\n",
        "drive.mount('/content/drive')"
      ],
      "execution_count": null,
      "outputs": [
        {
          "output_type": "stream",
          "text": [
            "Drive already mounted at /content/drive; to attempt to forcibly remount, call drive.mount(\"/content/drive\", force_remount=True).\n"
          ],
          "name": "stdout"
        }
      ]
    },
    {
      "cell_type": "markdown",
      "metadata": {
        "id": "IhTG5NZ1QKIp"
      },
      "source": [
        "## ***MOVIE RECOMMENDATION SYSTEM***"
      ]
    },
    {
      "cell_type": "markdown",
      "metadata": {
        "id": "aff48hM_RglS"
      },
      "source": [
        "# **Count character**"
      ]
    },
    {
      "cell_type": "code",
      "metadata": {
        "colab": {
          "base_uri": "https://localhost:8080/"
        },
        "id": "eEP6kQgWP3by",
        "outputId": "e60b2ea7-4d7d-423e-9c10-5d6d143c5462"
      },
      "source": [
        "from sklearn.feature_extraction.text import CountVectorizer\n",
        "cv = CountVectorizer()\n",
        "texts = {\"London Paris London\",\"Paris Paris London\"}\n",
        "count_matrix=cv.fit_transform(texts)\n",
        "#cv_fit is an array\n",
        "print(cv.get_feature_names())\n",
        "print(count_matrix.toarray())\n",
        "\n",
        "#[[2,1],[1,2]]"
      ],
      "execution_count": null,
      "outputs": [
        {
          "output_type": "stream",
          "text": [
            "['london', 'paris']\n",
            "[[1 2]\n",
            " [2 1]]\n"
          ],
          "name": "stdout"
        }
      ]
    },
    {
      "cell_type": "markdown",
      "metadata": {
        "id": "Qxz8eom9RvtZ"
      },
      "source": [
        "# **Cosine similarity between above vector**"
      ]
    },
    {
      "cell_type": "code",
      "metadata": {
        "colab": {
          "base_uri": "https://localhost:8080/"
        },
        "id": "IuHRDYj9RvDd",
        "outputId": "a93f735d-6943-426d-b4e5-03e7e6454059"
      },
      "source": [
        "from sklearn.metrics.pairwise import cosine_similarity\n",
        "similarity_scores = cosine_similarity(count_matrix)\n",
        "print(similarity_scores)"
      ],
      "execution_count": null,
      "outputs": [
        {
          "output_type": "stream",
          "text": [
            "[[1.  0.8]\n",
            " [0.8 1. ]]\n"
          ],
          "name": "stdout"
        }
      ]
    },
    {
      "cell_type": "markdown",
      "metadata": {
        "id": "kglB85O3TcNc"
      },
      "source": [
        "1 at 0,0 and 1,1 specifies that sentences are similar to them selves 100% 0.8 at 0,1 and 1,0 notifies that their cosine value between mapping i.e. 1,2 and 2,1 is 0.8 ."
      ]
    },
    {
      "cell_type": "code",
      "metadata": {
        "id": "HYg5RQBSTxQr",
        "colab": {
          "base_uri": "https://localhost:8080/"
        },
        "outputId": "e33a2532-0c21-47df-f3bf-717386f025a1"
      },
      "source": [
        "import pandas as pd\n",
        "import numpy as np\n",
        "from sklearn.feature_extraction.text import CountVectorizer\n",
        "from sklearn.metrics.pairwise import cosine_similarity\n",
        "###### helper functions. Use them when needed #######\n",
        "def get_title_from_index(index):\n",
        "\treturn df[df.index == index][\"title\"].values[0]\n",
        "\n",
        "def get_index_from_title(title):\n",
        "\treturn df[df.title == title][\"index\"].values[0]\n",
        "##################################################\n",
        "\n",
        "##Step 1: Read CSV File\n",
        "df = pd.read_csv(\"movie_dataset.csv\")\n",
        "#print (df.head())\n",
        "#print (df.columns)\n",
        "##Step 2: Select Features\n",
        "features = [\"keywords\",\"cast\",\"genres\",\"director\"]\n",
        "##Step 3: Create a column in DF which combines all selected features\n",
        "\n",
        "for feature in features:\n",
        "  df[feature]=df[feature].fillna('')\n",
        "\n",
        "def combined_features(row):\n",
        "  return row['keywords']+\" \"+row['cast']+\" \"+row['genres']+\" \"+row['director']\n",
        "\n",
        "#we have to apply the above combination to all dataset we have in the csv file\n",
        "df[\"combined_features\"] = df.apply(combined_features,axis=1)\n",
        "\n",
        "#print (df[\"combined_features\"].head())\n",
        "##Step 4: Create count matrix from this new combined column\n",
        "cv = CountVectorizer()\n",
        "count_matrix=cv.fit_transform(df['combined_features'])\n",
        "##Step 5: Compute the Cosine Similarity based on the count_matrix\n",
        "\n",
        "cosine_sim = cosine_similarity(count_matrix)\n",
        "movie_user_likes = \"Avatar\"\n",
        "\n",
        "## Step 6: Get index of this movie from its title\n",
        "\n",
        "movie_index = get_index_from_title(movie_user_likes)\n",
        "\n",
        "similar_movies = list(enumerate(cosine_sim[movie_index]))\n",
        "\n",
        "## Step 7: Get a list of similar movies in descending order of similarity score\n",
        "\n",
        "sorted_similar_movies = sorted(similar_movies,key= lambda x:x[1],reverse=True)\n",
        "\n",
        "## Step 8: Print titles of first 50 movies\n",
        "i=0\n",
        "for movie in sorted_similar_movies:\n",
        "  print (get_title_from_index(movie[0]))\n",
        "  i=i+1\n",
        "  if(i>50):\n",
        "    break"
      ],
      "execution_count": null,
      "outputs": [
        {
          "output_type": "stream",
          "text": [
            "Avatar\n",
            "Guardians of the Galaxy\n",
            "Aliens\n",
            "Star Wars: Clone Wars: Volume 1\n",
            "Star Trek Into Darkness\n",
            "Star Trek Beyond\n",
            "Alien\n",
            "Lockout\n",
            "Jason X\n",
            "The Helix... Loaded\n",
            "Moonraker\n",
            "Planet of the Apes\n",
            "Galaxy Quest\n",
            "Gravity\n",
            "Alien³\n",
            "Jupiter Ascending\n",
            "The Wolverine\n",
            "Silent Running\n",
            "Zathura: A Space Adventure\n",
            "Trekkies\n",
            "Cargo\n",
            "Wing Commander\n",
            "Star Trek\n",
            "Lost in Space\n",
            "Babylon A.D.\n",
            "The Fifth Element\n",
            "Oblivion\n",
            "Titan A.E.\n",
            "AVP: Alien vs. Predator\n",
            "The Empire Strikes Back\n",
            "Dragonball Evolution\n",
            "Superman Returns\n",
            "Divergent\n",
            "John Carter\n",
            "The Black Hole\n",
            "The Ice Pirates\n",
            "Memoirs of an Invisible Man\n",
            "Starship Troopers\n",
            "The Astronaut's Wife\n",
            "Machete Kills\n",
            "Soldier\n",
            "The Abyss\n",
            "Damnation Alley\n",
            "Men in Black\n",
            "Space Cowboys\n",
            "Space Dogs\n",
            "The Time Machine\n",
            "Sheena\n",
            "Captain America: Civil War\n",
            "Star Trek: Insurrection\n",
            "Oz: The Great and Powerful\n"
          ],
          "name": "stdout"
        }
      ]
    }
  ]
}